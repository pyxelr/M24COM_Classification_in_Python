{
 "cells": [
  {
   "cell_type": "code",
   "execution_count": 1,
   "metadata": {
    "collapsed": true
   },
   "outputs": [],
   "source": [
    "# Import required libraries\n",
    "import pandas\n",
    "import sklearn\n",
    "import numpy as np\n",
    "from sklearn import preprocessing\n",
    "from sklearn.model_selection import train_test_split\n",
    "from sklearn.metrics.pairwise import euclidean_distances\n",
    "from sklearn.neighbors import KNeighborsClassifier\n",
    "from sklearn.tree import DecisionTreeClassifier\n",
    "from sklearn.ensemble import RandomForestClassifier\n",
    "from sklearn.datasets import make_classification\n",
    "from sklearn.metrics import accuracy_score\n",
    "\n",
    "from sklearn.model_selection import cross_val_score"
   ]
  },
  {
   "cell_type": "code",
   "execution_count": 2,
   "metadata": {
    "collapsed": true
   },
   "outputs": [],
   "source": [
    "# Load the dataset file\n",
    "with open(\"musicclean.csv\", 'r') as csvfile:\n",
    "    df1 = pandas.read_csv(csvfile)"
   ]
  },
  {
   "cell_type": "code",
   "execution_count": 3,
   "metadata": {},
   "outputs": [
    {
     "name": "stdout",
     "output_type": "stream",
     "text": [
      "['artistHotttnesss' 'artistId' 'artistName' 'artistMbtags'\n",
      " 'artistMbtagsCount' 'barsConfidence' 'barsStart' 'beatsConfidence'\n",
      " 'beatsStart' 'duration' 'endOfFadeIn' 'familiarity' 'key' 'keyConfidence'\n",
      " 'latitude' 'location' 'longitude' 'loudness' 'mode' 'modeConfidence'\n",
      " 'releaseId' 'releaseName' 'similar' 'songHotttnesss' 'songId'\n",
      " 'startOfFadeOut' 'tatumsConfidence' 'tatumsStart' 'tempo' 'terms'\n",
      " 'termsFreq' 'timeSignature' 'timeSignatureConfidence' 'title' 'year']\n"
     ]
    }
   ],
   "source": [
    "# Display The names of all the columns in the data.\n",
    "print(df1.columns.values)"
   ]
  },
  {
   "cell_type": "code",
   "execution_count": 4,
   "metadata": {},
   "outputs": [
    {
     "data": {
      "text/plain": [
       "9990"
      ]
     },
     "execution_count": 4,
     "metadata": {},
     "output_type": "execute_result"
    }
   ],
   "source": [
    "# Display how many rows is in the dataset\n",
    "len(df1)"
   ]
  },
  {
   "cell_type": "code",
   "execution_count": 5,
   "metadata": {
    "collapsed": true
   },
   "outputs": [],
   "source": [
    "# Choose genres\n",
    "value_list = ['country rock', 'latin jazz', 'post-grunge', 'dance pop', 'gangster rap']\n",
    "#Grab DataFrame rows where column has values from \"value_list\" defined above\n",
    "df1 = df1[df1.terms.isin(value_list)]"
   ]
  },
  {
   "cell_type": "code",
   "execution_count": 6,
   "metadata": {
    "collapsed": true,
    "scrolled": true
   },
   "outputs": [],
   "source": [
    "# Choose features (audio features) for training and testing (all 11 features)\n",
    "x = df1[['artistHotttnesss', 'barsStart','beatsStart',\n",
    "        'duration', 'endOfFadeIn', 'familiarity', 'key','loudness',\n",
    "        'mode','startOfFadeOut','tatumsStart','tempo',\n",
    "        'timeSignature']]\n",
    "# Choose the most affecting features (Uncomment the line below)\n",
    "#x = df1[['artistHotttnesss', 'familiarity','loudness','startOfFadeOut']]\n",
    "\n",
    "# Choose class (genre of music) for training and testing\n",
    "y = df1[['terms']]"
   ]
  },
  {
   "cell_type": "code",
   "execution_count": 7,
   "metadata": {},
   "outputs": [
    {
     "data": {
      "text/plain": [
       "727"
      ]
     },
     "execution_count": 7,
     "metadata": {},
     "output_type": "execute_result"
    }
   ],
   "source": [
    "# Check the number of examples after feature selection\n",
    "len(df1)"
   ]
  },
  {
   "cell_type": "code",
   "execution_count": 8,
   "metadata": {
    "collapsed": true
   },
   "outputs": [],
   "source": [
    "# Use train/test split with different random_state values\n",
    "X_train, X_test, y_train, y_test = train_test_split(x, y, test_size=0.25)"
   ]
  },
  {
   "cell_type": "code",
   "execution_count": 9,
   "metadata": {},
   "outputs": [
    {
     "data": {
      "text/plain": [
       "RandomForestClassifier(bootstrap=True, class_weight=None, criterion='gini',\n",
       "            max_depth=None, max_features='auto', max_leaf_nodes=None,\n",
       "            min_impurity_split=1e-07, min_samples_leaf=1,\n",
       "            min_samples_split=2, min_weight_fraction_leaf=0.0,\n",
       "            n_estimators=10000, n_jobs=-1, oob_score=False, random_state=0,\n",
       "            verbose=0, warm_start=False)"
      ]
     },
     "execution_count": 9,
     "metadata": {},
     "output_type": "execute_result"
    }
   ],
   "source": [
    "# Create a random forest classifier\n",
    "# clf means classifier\n",
    "clf = RandomForestClassifier(n_estimators=10000, random_state=0, n_jobs=-1)\n",
    "\n",
    "# Train the classifier\n",
    "clf.fit(X_train, y_train.values.ravel())"
   ]
  },
  {
   "cell_type": "code",
   "execution_count": 10,
   "metadata": {},
   "outputs": [
    {
     "name": "stdout",
     "output_type": "stream",
     "text": [
      "('artistHotttnesss', 0.29507378108942522)\n",
      "('familiarity', 0.2801703571484776)\n",
      "('loudness', 0.22556766031737607)\n",
      "('startOfFadeOut', 0.19918820144472082)\n"
     ]
    }
   ],
   "source": [
    "# Print the name and gini importance of each feature\n",
    "for feature in zip(x, clf.feature_importances_):\n",
    "    print(feature)"
   ]
  },
  {
   "cell_type": "code",
   "execution_count": 11,
   "metadata": {},
   "outputs": [
    {
     "name": "stdout",
     "output_type": "stream",
     "text": [
      "(545, 4)\n"
     ]
    }
   ],
   "source": [
    "# Check the number of testing examples\n",
    "print(X_train.shape)"
   ]
  },
  {
   "cell_type": "code",
   "execution_count": 12,
   "metadata": {},
   "outputs": [
    {
     "data": {
      "text/plain": [
       "KNeighborsClassifier(algorithm='auto', leaf_size=30, metric='minkowski',\n",
       "           metric_params=None, n_jobs=1, n_neighbors=23, p=2,\n",
       "           weights='uniform')"
      ]
     },
     "execution_count": 12,
     "metadata": {},
     "output_type": "execute_result"
    }
   ],
   "source": [
    "# Classification (KNN)\n",
    "# Create KNN Classifier\n",
    "clf = KNeighborsClassifier(n_neighbors=23)\n",
    "# Train the classifier\n",
    "clf.fit(X_train, y_train.values.ravel()) "
   ]
  },
  {
   "cell_type": "code",
   "execution_count": 13,
   "metadata": {},
   "outputs": [
    {
     "name": "stdout",
     "output_type": "stream",
     "text": [
      "Accuracy score for KNN algorithm = 29.6703296703 %\n"
     ]
    }
   ],
   "source": [
    "# Test accuracy of KNN algorithm\n",
    "a1 = accuracy_score(clf.predict(X_test), y_test)\n",
    "print('Accuracy score for KNN algorithm =',a1*100,'%')"
   ]
  },
  {
   "cell_type": "code",
   "execution_count": 14,
   "metadata": {},
   "outputs": [
    {
     "data": {
      "text/plain": [
       "array([ 0.58928571,  0.60714286,  0.5       ,  0.56363636,  0.52727273,\n",
       "        0.61818182,  0.66037736,  0.52830189,  0.50943396,  0.67924528])"
      ]
     },
     "execution_count": 14,
     "metadata": {},
     "output_type": "execute_result"
    }
   ],
   "source": [
    "# Decision Tree Classification\n",
    "# Create Decision Tree Classifier\n",
    "clf = DecisionTreeClassifier(random_state=0)\n",
    "# Evaluate a score by cross-validation\n",
    "cross_val_score(clf, X_train, y_train.values.ravel(), cv=10)"
   ]
  },
  {
   "cell_type": "code",
   "execution_count": 15,
   "metadata": {},
   "outputs": [
    {
     "data": {
      "text/plain": [
       "DecisionTreeClassifier(class_weight=None, criterion='gini', max_depth=None,\n",
       "            max_features=None, max_leaf_nodes=None,\n",
       "            min_impurity_split=1e-07, min_samples_leaf=1,\n",
       "            min_samples_split=2, min_weight_fraction_leaf=0.0,\n",
       "            presort=False, random_state=0, splitter='best')"
      ]
     },
     "execution_count": 15,
     "metadata": {},
     "output_type": "execute_result"
    }
   ],
   "source": [
    "# Train the classifier\n",
    "clf.fit(X_train, y_train.values.ravel())"
   ]
  },
  {
   "cell_type": "code",
   "execution_count": 16,
   "metadata": {},
   "outputs": [
    {
     "name": "stdout",
     "output_type": "stream",
     "text": [
      "Accuracy score for Decision Trees algorithm = 58.2417582418 %\n"
     ]
    }
   ],
   "source": [
    "# Test accuracy of Decision Trees algorithm\n",
    "a1 = accuracy_score(clf.predict(X_test), y_test)\n",
    "print('Accuracy score for Decision Trees algorithm =',a1*100,'%')"
   ]
  },
  {
   "cell_type": "code",
   "execution_count": 17,
   "metadata": {},
   "outputs": [
    {
     "data": {
      "text/plain": [
       "RandomForestClassifier(bootstrap=True, class_weight=None, criterion='gini',\n",
       "            max_depth=None, max_features='auto', max_leaf_nodes=None,\n",
       "            min_impurity_split=1e-07, min_samples_leaf=1,\n",
       "            min_samples_split=2, min_weight_fraction_leaf=0.0,\n",
       "            n_estimators=10, n_jobs=1, oob_score=False, random_state=0,\n",
       "            verbose=0, warm_start=False)"
      ]
     },
     "execution_count": 17,
     "metadata": {},
     "output_type": "execute_result"
    }
   ],
   "source": [
    "# Classification (Random Forest)\n",
    "# Create Random Forest Classifier\n",
    "clf = RandomForestClassifier(random_state=0)\n",
    "# Train the classifier\n",
    "clf.fit(X_train, y_train.values.ravel())"
   ]
  },
  {
   "cell_type": "code",
   "execution_count": 18,
   "metadata": {},
   "outputs": [
    {
     "name": "stdout",
     "output_type": "stream",
     "text": [
      "Accuracy score for Random Forest algorithm = 67.032967033 %\n"
     ]
    }
   ],
   "source": [
    "# Test accuracy of Random Forest algorithm\n",
    "a1 = accuracy_score(clf.predict(X_test), y_test)\n",
    "print('Accuracy score for Random Forest algorithm =',a1*100,'%')"
   ]
  }
 ],
 "metadata": {
  "kernelspec": {
   "display_name": "Python 3",
   "language": "python",
   "name": "python3"
  },
  "language_info": {
   "codemirror_mode": {
    "name": "ipython",
    "version": 3
   },
   "file_extension": ".py",
   "mimetype": "text/x-python",
   "name": "python",
   "nbconvert_exporter": "python",
   "pygments_lexer": "ipython3",
   "version": "3.6.1"
  }
 },
 "nbformat": 4,
 "nbformat_minor": 1
}
